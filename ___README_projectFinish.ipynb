# Lesson from Capstone Project

## First Approach to Gather and Explore raw Datasets
### The most important when choosing data
* The most important is immagine how the final tables will be used after finished all target tables
### Take a first look on raw data
   
## Define Data Model and design the Schema

## Build main ETL

## Data Quality Check

## Immagine some use-case for query from final tables