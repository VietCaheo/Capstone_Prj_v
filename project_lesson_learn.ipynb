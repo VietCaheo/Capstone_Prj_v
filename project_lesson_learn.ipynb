{
 "cells": [
  {
   "cell_type": "markdown",
   "metadata": {
    "editable": true
   },
   "source": [
    "# Lesson from Capstone Project\n",
    "\n",
    "## First Approach to Gather and Explore raw Datasets\n",
    "\n",
    "### The most important when choosing data\n",
    "\n",
    "* The most important is immagine how the final tables will be used after finished all target tables\n",
    "* Then collect the related and appropriate data\n",
    "### Take a first look on raw data\n",
    "\n",
    "* Need to read the raw dataset to dataframe firstly\n",
    "* Filter by NaN value in each dataset and print out as count how many NaN value on each column\n",
    "* Filter by Duplicated value on each columns\n",
    "* In this case: the nicest is using PySpark to reading dataset and printSchema to show out. Another way is use pandas rd (but pandas could not provide good view about schema, and issue about way to dealing with schema later)\n",
    "\n",
    "## Define Data Model and design the Schema\n",
    "\n",
    "* Almost dataset in real world now large (> 1mil lines), so choosing which data model ???\n",
    "* From Data Model: it's most important step to design the diagram of target tables.\n",
    "    * For example: From first approach step, we need immagine the purpose will applied from result-table, and build the appropriate the diagram for joining information between tables.\n",
    "\n",
    "## Build main ETL:\n",
    "\n",
    "* Let's say using PySpark for read raw dataset and build the dataframe by PySpark api froom step1 above.\n",
    "* to build ETL: read rawdata set will be got the Schema of data. This will work as staging table which includes all information field from raw dataset.\n",
    "* `Staging` because: in real-world raw dataset may be very large, and storage in S3 for Ex.\n",
    "* Transform and Loading: \n",
    "    * Need care about Cleaning Data activities\n",
    "    * Choose which data field will become `key`  for joining data\n",
    "    * Data key may need extract from hiden information in raw dataset.\n",
    "    * At Loading step: Can choose how target data table will be storage (local, DB?; Redshift; S3 )\n",
    "## Data Quality Check:\n",
    "\n",
    "* Spark SQL: support very strong with familiar SQL commands, it should leverage it to do query test data.\n",
    "* Need to care about Consistency of data before and after write parquet files (if choose parquet to write)\n",
    "* Immagine real use-case when query data from target tables.\n",
    "\n",
    "## Immagine some use-case for query from final tables\n",
    "\n",
    "* It should always care from first step to collecting dataset and explore data\n",
    "* Use-case and requirement query come by randomly by any data field we have already in.\n",
    "\n",
    "## Bonus link and information from Mentor\n",
    "* regarding the data model in real world:\n",
    "    * https://www.datastax.com/blog/2017/08/data-model-meets-world-blog-series\n",
    "    * https://eng.uber.com/uber-big-data-platform/\n",
    "\n",
    "* heavy-read system design:\n",
    "    * https://medium.com/@narengowda/netflix-system-design-dbec30fede8d\n",
    "* Experience when implementing data pipeline:\n",
    "    * https://medium.com/velotio-perspectives/lessons-learnt-while-building-an-etl-pipeline-for-mongodb-amazon-redshift-using-apache-airflow-543bb0b75017    \n"
   ]
  },
  {
   "cell_type": "code",
   "execution_count": null,
   "metadata": {
    "editable": true
   },
   "outputs": [],
   "source": []
  }
 ],
 "metadata": {
  "kernelspec": {
   "display_name": "Python 3",
   "language": "python",
   "name": "python3"
  },
  "language_info": {
   "codemirror_mode": {
    "name": "ipython",
    "version": 3
   },
   "file_extension": ".py",
   "mimetype": "text/x-python",
   "name": "python",
   "nbconvert_exporter": "python",
   "pygments_lexer": "ipython3",
   "version": "3.6.3"
  }
 },
 "nbformat": 4,
 "nbformat_minor": 4
}
